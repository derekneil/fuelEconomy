{
 "cells": [
  {
   "cell_type": "code",
   "execution_count": 1,
   "metadata": {
    "collapsed": true
   },
   "outputs": [],
   "source": [
    "from pandas import *"
   ]
  },
  {
   "cell_type": "code",
   "execution_count": 80,
   "metadata": {
    "collapsed": true
   },
   "outputs": [],
   "source": [
    "df = pandas.io.parsers.read_csv('1995-2015_5-cycle.csv',index_col=0)"
   ]
  },
  {
   "cell_type": "code",
   "execution_count": 81,
   "metadata": {
    "collapsed": false
   },
   "outputs": [
    {
     "data": {
      "text/html": [
       "<div style=\"max-height:1000px;max-width:1500px;overflow:auto;\">\n",
       "<table border=\"1\" class=\"dataframe\">\n",
       "  <thead>\n",
       "    <tr style=\"text-align: right;\">\n",
       "      <th></th>\n",
       "      <th>YEAR</th>\n",
       "      <th>MAKE</th>\n",
       "      <th>MODEL</th>\n",
       "      <th>CLASS</th>\n",
       "      <th>ENGINESIZE</th>\n",
       "      <th>CYLINDERS</th>\n",
       "      <th>TRANSMISSION</th>\n",
       "      <th>FUELTYPE</th>\n",
       "      <th>CITY (L/100 km)</th>\n",
       "      <th>HWY (L/100 km)</th>\n",
       "      <th>COMB (L/100 km)</th>\n",
       "      <th>COMB (mpg)</th>\n",
       "      <th>CO2(g/km)</th>\n",
       "    </tr>\n",
       "  </thead>\n",
       "  <tbody>\n",
       "    <tr>\n",
       "      <th>0</th>\n",
       "      <td> 1995</td>\n",
       "      <td> ACURA</td>\n",
       "      <td>      INTEGRA</td>\n",
       "      <td> SUBCOMPACT</td>\n",
       "      <td> 1.8</td>\n",
       "      <td> 4</td>\n",
       "      <td> M5</td>\n",
       "      <td> X</td>\n",
       "      <td> 11.0</td>\n",
       "      <td>  8.3</td>\n",
       "      <td>  9.8</td>\n",
       "      <td> 29</td>\n",
       "      <td> 225</td>\n",
       "    </tr>\n",
       "    <tr>\n",
       "      <th>1</th>\n",
       "      <td> 1995</td>\n",
       "      <td> ACURA</td>\n",
       "      <td> INTEGRA GS-R</td>\n",
       "      <td> SUBCOMPACT</td>\n",
       "      <td> 1.8</td>\n",
       "      <td> 4</td>\n",
       "      <td> M5</td>\n",
       "      <td> Z</td>\n",
       "      <td> 10.8</td>\n",
       "      <td>  8.3</td>\n",
       "      <td>  9.7</td>\n",
       "      <td> 29</td>\n",
       "      <td> 223</td>\n",
       "    </tr>\n",
       "    <tr>\n",
       "      <th>2</th>\n",
       "      <td> 1995</td>\n",
       "      <td> ACURA</td>\n",
       "      <td>       LEGEND</td>\n",
       "      <td>    COMPACT</td>\n",
       "      <td> 3.2</td>\n",
       "      <td> 6</td>\n",
       "      <td> A4</td>\n",
       "      <td> Z</td>\n",
       "      <td> 14.2</td>\n",
       "      <td> 10.5</td>\n",
       "      <td> 12.5</td>\n",
       "      <td> 23</td>\n",
       "      <td> 288</td>\n",
       "    </tr>\n",
       "    <tr>\n",
       "      <th>3</th>\n",
       "      <td> 1995</td>\n",
       "      <td> ACURA</td>\n",
       "      <td> LEGEND COUPE</td>\n",
       "      <td>    COMPACT</td>\n",
       "      <td> 3.2</td>\n",
       "      <td> 6</td>\n",
       "      <td> A4</td>\n",
       "      <td> Z</td>\n",
       "      <td> 14.6</td>\n",
       "      <td> 11.0</td>\n",
       "      <td> 13.0</td>\n",
       "      <td> 22</td>\n",
       "      <td> 299</td>\n",
       "    </tr>\n",
       "    <tr>\n",
       "      <th>4</th>\n",
       "      <td> 1995</td>\n",
       "      <td> ACURA</td>\n",
       "      <td> LEGEND COUPE</td>\n",
       "      <td>    COMPACT</td>\n",
       "      <td> 3.2</td>\n",
       "      <td> 6</td>\n",
       "      <td> M6</td>\n",
       "      <td> Z</td>\n",
       "      <td> 15.0</td>\n",
       "      <td>  9.9</td>\n",
       "      <td> 12.7</td>\n",
       "      <td> 22</td>\n",
       "      <td> 292</td>\n",
       "    </tr>\n",
       "  </tbody>\n",
       "</table>\n",
       "</div>"
      ],
      "text/plain": [
       "   YEAR   MAKE         MODEL       CLASS  ENGINESIZE  CYLINDERS TRANSMISSION  \\\n",
       "0  1995  ACURA       INTEGRA  SUBCOMPACT         1.8          4           M5   \n",
       "1  1995  ACURA  INTEGRA GS-R  SUBCOMPACT         1.8          4           M5   \n",
       "2  1995  ACURA        LEGEND     COMPACT         3.2          6           A4   \n",
       "3  1995  ACURA  LEGEND COUPE     COMPACT         3.2          6           A4   \n",
       "4  1995  ACURA  LEGEND COUPE     COMPACT         3.2          6           M6   \n",
       "\n",
       "  FUELTYPE  CITY (L/100 km)  HWY (L/100 km)  COMB (L/100 km)  COMB (mpg)  \\\n",
       "0        X             11.0             8.3              9.8          29   \n",
       "1        Z             10.8             8.3              9.7          29   \n",
       "2        Z             14.2            10.5             12.5          23   \n",
       "3        Z             14.6            11.0             13.0          22   \n",
       "4        Z             15.0             9.9             12.7          22   \n",
       "\n",
       "   CO2(g/km)  \n",
       "0        225  \n",
       "1        223  \n",
       "2        288  \n",
       "3        299  \n",
       "4        292  "
      ]
     },
     "execution_count": 81,
     "metadata": {},
     "output_type": "execute_result"
    }
   ],
   "source": [
    "df.head()"
   ]
  },
  {
   "cell_type": "code",
   "execution_count": 82,
   "metadata": {
    "collapsed": false
   },
   "outputs": [],
   "source": [
    "fuelly = read_csv('fuelly-car-data-make-model-year-info.csv',index_col=0)"
   ]
  },
  {
   "cell_type": "code",
   "execution_count": 83,
   "metadata": {
    "collapsed": false
   },
   "outputs": [],
   "source": [
    "fuelly['make'] = fuelly['make'].str.upper()"
   ]
  },
  {
   "cell_type": "code",
   "execution_count": 84,
   "metadata": {
    "collapsed": true
   },
   "outputs": [],
   "source": [
    "fuelly['model'] = fuelly['model'].str.upper()"
   ]
  },
  {
   "cell_type": "code",
   "execution_count": 85,
   "metadata": {
    "collapsed": true
   },
   "outputs": [],
   "source": [
    "fuelly.rename(columns={'weight':'WEIGHT'}, inplace=True)"
   ]
  },
  {
   "cell_type": "code",
   "execution_count": 86,
   "metadata": {
    "collapsed": false
   },
   "outputs": [
    {
     "data": {
      "text/html": [
       "<div style=\"max-height:1000px;max-width:1500px;overflow:auto;\">\n",
       "<table border=\"1\" class=\"dataframe\">\n",
       "  <thead>\n",
       "    <tr style=\"text-align: right;\">\n",
       "      <th></th>\n",
       "      <th>avgMpg</th>\n",
       "      <th>fuelups</th>\n",
       "      <th>horsepower</th>\n",
       "      <th>link</th>\n",
       "      <th>make</th>\n",
       "      <th>miles</th>\n",
       "      <th>model</th>\n",
       "      <th>owners</th>\n",
       "      <th>type</th>\n",
       "      <th>WEIGHT</th>\n",
       "      <th>year</th>\n",
       "    </tr>\n",
       "  </thead>\n",
       "  <tbody>\n",
       "    <tr>\n",
       "      <th>0</th>\n",
       "      <td> 36.6</td>\n",
       "      <td>  1343</td>\n",
       "      <td> 115</td>\n",
       "      <td> http://www.fuelly.com/car/volkswagen/jetta/2015</td>\n",
       "      <td> VOLKSWAGEN</td>\n",
       "      <td>   584877</td>\n",
       "      <td> JETTA</td>\n",
       "      <td>  115</td>\n",
       "      <td> SEDAN</td>\n",
       "      <td> 2859</td>\n",
       "      <td> 2015</td>\n",
       "    </tr>\n",
       "    <tr>\n",
       "      <th>1</th>\n",
       "      <td> 36.9</td>\n",
       "      <td> 14383</td>\n",
       "      <td> 115</td>\n",
       "      <td> http://www.fuelly.com/car/volkswagen/jetta/2014</td>\n",
       "      <td> VOLKSWAGEN</td>\n",
       "      <td>  6325111</td>\n",
       "      <td> JETTA</td>\n",
       "      <td>  532</td>\n",
       "      <td> SEDAN</td>\n",
       "      <td> 2804</td>\n",
       "      <td> 2014</td>\n",
       "    </tr>\n",
       "    <tr>\n",
       "      <th>2</th>\n",
       "      <td> 37.5</td>\n",
       "      <td> 36605</td>\n",
       "      <td> 115</td>\n",
       "      <td> http://www.fuelly.com/car/volkswagen/jetta/2013</td>\n",
       "      <td> VOLKSWAGEN</td>\n",
       "      <td> 16367179</td>\n",
       "      <td> JETTA</td>\n",
       "      <td>  926</td>\n",
       "      <td> SEDAN</td>\n",
       "      <td> 2842</td>\n",
       "      <td> 2013</td>\n",
       "    </tr>\n",
       "    <tr>\n",
       "      <th>3</th>\n",
       "      <td> 37.6</td>\n",
       "      <td> 45853</td>\n",
       "      <td> 115</td>\n",
       "      <td> http://www.fuelly.com/car/volkswagen/jetta/2012</td>\n",
       "      <td> VOLKSWAGEN</td>\n",
       "      <td> 20997540</td>\n",
       "      <td> JETTA</td>\n",
       "      <td> 1049</td>\n",
       "      <td> SEDAN</td>\n",
       "      <td>  NaN</td>\n",
       "      <td> 2012</td>\n",
       "    </tr>\n",
       "    <tr>\n",
       "      <th>4</th>\n",
       "      <td> 37.2</td>\n",
       "      <td> 39577</td>\n",
       "      <td> 115</td>\n",
       "      <td> http://www.fuelly.com/car/volkswagen/jetta/2011</td>\n",
       "      <td> VOLKSWAGEN</td>\n",
       "      <td> 18278781</td>\n",
       "      <td> JETTA</td>\n",
       "      <td>  807</td>\n",
       "      <td> SEDAN</td>\n",
       "      <td> 2804</td>\n",
       "      <td> 2011</td>\n",
       "    </tr>\n",
       "  </tbody>\n",
       "</table>\n",
       "</div>"
      ],
      "text/plain": [
       "   avgMpg fuelups  horsepower  \\\n",
       "0    36.6    1343         115   \n",
       "1    36.9   14383         115   \n",
       "2    37.5   36605         115   \n",
       "3    37.6   45853         115   \n",
       "4    37.2   39577         115   \n",
       "\n",
       "                                              link        make     miles  \\\n",
       "0  http://www.fuelly.com/car/volkswagen/jetta/2015  VOLKSWAGEN    584877   \n",
       "1  http://www.fuelly.com/car/volkswagen/jetta/2014  VOLKSWAGEN   6325111   \n",
       "2  http://www.fuelly.com/car/volkswagen/jetta/2013  VOLKSWAGEN  16367179   \n",
       "3  http://www.fuelly.com/car/volkswagen/jetta/2012  VOLKSWAGEN  20997540   \n",
       "4  http://www.fuelly.com/car/volkswagen/jetta/2011  VOLKSWAGEN  18278781   \n",
       "\n",
       "   model  owners   type WEIGHT  year  \n",
       "0  JETTA     115  SEDAN   2859  2015  \n",
       "1  JETTA     532  SEDAN   2804  2014  \n",
       "2  JETTA     926  SEDAN   2842  2013  \n",
       "3  JETTA    1049  SEDAN    NaN  2012  \n",
       "4  JETTA     807  SEDAN   2804  2011  "
      ]
     },
     "execution_count": 86,
     "metadata": {},
     "output_type": "execute_result"
    }
   ],
   "source": [
    "fuelly.head()"
   ]
  },
  {
   "cell_type": "code",
   "execution_count": 92,
   "metadata": {
    "collapsed": true
   },
   "outputs": [],
   "source": [
    "columns = list(df.columns.values)"
   ]
  },
  {
   "cell_type": "code",
   "execution_count": 94,
   "metadata": {
    "collapsed": false
   },
   "outputs": [
    {
     "name": "stdout",
     "output_type": "stream",
     "text": [
      "None\n"
     ]
    }
   ],
   "source": [
    "columns.append('WEIGHT')"
   ]
  },
  {
   "cell_type": "code",
   "execution_count": 96,
   "metadata": {
    "collapsed": false
   },
   "outputs": [],
   "source": [
    "df = merge(df, fuelly, how='inner', left_on=['MAKE','MODEL','YEAR'], right_on=['make','model','year'],\n",
    "      suffixes=('_x', '_y'))"
   ]
  },
  {
   "cell_type": "code",
   "execution_count": 97,
   "metadata": {
    "collapsed": false
   },
   "outputs": [],
   "source": [
    "df = df[columns]"
   ]
  },
  {
   "cell_type": "code",
   "execution_count": 101,
   "metadata": {
    "collapsed": true
   },
   "outputs": [],
   "source": [
    "df.to_csv('1995-2015_5-cycle-weights.csv', encoding='utf-8')"
   ]
  },
  {
   "cell_type": "code",
   "execution_count": null,
   "metadata": {
    "collapsed": true
   },
   "outputs": [],
   "source": []
  }
 ],
 "metadata": {
  "kernelspec": {
   "display_name": "Python 2",
   "language": "python",
   "name": "python2"
  },
  "language_info": {
   "codemirror_mode": {
    "name": "ipython",
    "version": 2
   },
   "file_extension": ".py",
   "mimetype": "text/x-python",
   "name": "python",
   "nbconvert_exporter": "python",
   "pygments_lexer": "ipython2",
   "version": "2.7.10"
  }
 },
 "nbformat": 4,
 "nbformat_minor": 0
}
