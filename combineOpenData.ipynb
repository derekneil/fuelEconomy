{
 "cells": [
  {
   "cell_type": "code",
   "execution_count": 160,
   "metadata": {
    "collapsed": false
   },
   "outputs": [],
   "source": [
    "import pandas\n",
    "from pandas.io.parsers import read_csv"
   ]
  },
  {
   "cell_type": "code",
   "execution_count": 161,
   "metadata": {
    "collapsed": false
   },
   "outputs": [],
   "source": [
    "columns = [\n",
    "\t\"YEAR\",\n",
    "\t\"MAKE\",\n",
    "\t\"MODEL\",\n",
    "\t\"CLASS\",\n",
    "\t\"ENGINESIZE\",\n",
    "\t\"CYLINDERS\",\n",
    "\t\"TRANSMISSION\",\n",
    "\t\"FUELTYPE\",\n",
    "\t\"CITY (L/100 km)\",\n",
    "\t\"HWY (L/100 km)\",\n",
    "\t\"COMB (L/100 km)\",\n",
    "\t\"COMB (mpg)\",\n",
    "\t\"CO2(g/km)\"\n",
    "]"
   ]
  },
  {
   "cell_type": "code",
   "execution_count": 162,
   "metadata": {
    "collapsed": false
   },
   "outputs": [],
   "source": [
    "twoCycle = read_csv('Original_1995-1999_Fuel_Consumption_Ratings_(2-cycle).csv', header=2, names=columns)"
   ]
  },
  {
   "cell_type": "code",
   "execution_count": 163,
   "metadata": {
    "collapsed": false
   },
   "outputs": [],
   "source": [
    "twoCycle = twoCycle.append(read_csv('Original_2000-2014_Fuel_Consumption_Ratings_(2-cycle).csv', header=2, names=columns), ignore_index=True)"
   ]
  },
  {
   "cell_type": "code",
   "execution_count": 167,
   "metadata": {
    "collapsed": true
   },
   "outputs": [],
   "source": [
    "twoCycle.to_csv('1995-2014_2-cycle.csv')"
   ]
  },
  {
   "cell_type": "code",
   "execution_count": 173,
   "metadata": {
    "collapsed": false
   },
   "outputs": [],
   "source": [
    "fiveCycle = read_csv('MY1995-1999 Fuel Consumption Ratings 5-cycle.csv', header=2, names=columns, skip_footer=25)"
   ]
  },
  {
   "cell_type": "code",
   "execution_count": 174,
   "metadata": {
    "collapsed": false
   },
   "outputs": [],
   "source": [
    "for fileName in xrange(2000,2016):\n",
    "    data = read_csv('MY'+`fileName`+' Fuel Consumption Ratings 5-cycle.csv', header=2, names=columns, skip_footer=25)\n",
    "    fiveCycle = fiveCycle.append(data, ignore_index=True)"
   ]
  },
  {
   "cell_type": "code",
   "execution_count": 175,
   "metadata": {
    "collapsed": true
   },
   "outputs": [],
   "source": [
    "fiveCycle.to_csv('1995-2015_5-cycle.csv')"
   ]
  },
  {
   "cell_type": "code",
   "execution_count": null,
   "metadata": {
    "collapsed": true
   },
   "outputs": [],
   "source": []
  }
 ],
 "metadata": {
  "kernelspec": {
   "display_name": "Python 2",
   "language": "python",
   "name": "python2"
  },
  "language_info": {
   "codemirror_mode": {
    "name": "ipython",
    "version": 2
   },
   "file_extension": ".py",
   "mimetype": "text/x-python",
   "name": "python",
   "nbconvert_exporter": "python",
   "pygments_lexer": "ipython2",
   "version": "2.7.10"
  }
 },
 "nbformat": 4,
 "nbformat_minor": 0
}
